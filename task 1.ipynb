{
 "cells": [
  {
   "cell_type": "code",
   "execution_count": 2,
   "id": "4424deae",
   "metadata": {},
   "outputs": [
    {
     "name": "stdout",
     "output_type": "stream",
     "text": [
      "Requirement already satisfied: transformers in c:\\users\\admin\\anaconda3\\lib\\site-packages (4.48.3)\n",
      "Requirement already satisfied: filelock in c:\\users\\admin\\anaconda3\\lib\\site-packages (from transformers) (3.13.1)\n",
      "Requirement already satisfied: huggingface-hub<1.0,>=0.24.0 in c:\\users\\admin\\anaconda3\\lib\\site-packages (from transformers) (0.28.1)\n",
      "Requirement already satisfied: numpy>=1.17 in c:\\users\\admin\\anaconda3\\lib\\site-packages (from transformers) (1.26.4)\n",
      "Requirement already satisfied: packaging>=20.0 in c:\\users\\admin\\anaconda3\\lib\\site-packages (from transformers) (24.1)\n",
      "Requirement already satisfied: pyyaml>=5.1 in c:\\users\\admin\\anaconda3\\lib\\site-packages (from transformers) (6.0.1)\n",
      "Requirement already satisfied: regex!=2019.12.17 in c:\\users\\admin\\anaconda3\\lib\\site-packages (from transformers) (2024.9.11)\n",
      "Requirement already satisfied: requests in c:\\users\\admin\\anaconda3\\lib\\site-packages (from transformers) (2.32.3)\n",
      "Requirement already satisfied: tokenizers<0.22,>=0.21 in c:\\users\\admin\\anaconda3\\lib\\site-packages (from transformers) (0.21.0)\n",
      "Requirement already satisfied: safetensors>=0.4.1 in c:\\users\\admin\\anaconda3\\lib\\site-packages (from transformers) (0.5.2)\n",
      "Requirement already satisfied: tqdm>=4.27 in c:\\users\\admin\\anaconda3\\lib\\site-packages (from transformers) (4.66.5)\n",
      "Requirement already satisfied: fsspec>=2023.5.0 in c:\\users\\admin\\anaconda3\\lib\\site-packages (from huggingface-hub<1.0,>=0.24.0->transformers) (2024.6.1)\n",
      "Requirement already satisfied: typing-extensions>=3.7.4.3 in c:\\users\\admin\\anaconda3\\lib\\site-packages (from huggingface-hub<1.0,>=0.24.0->transformers) (4.11.0)\n",
      "Requirement already satisfied: colorama in c:\\users\\admin\\anaconda3\\lib\\site-packages (from tqdm>=4.27->transformers) (0.4.6)\n",
      "Requirement already satisfied: charset-normalizer<4,>=2 in c:\\users\\admin\\anaconda3\\lib\\site-packages (from requests->transformers) (3.3.2)\n",
      "Requirement already satisfied: idna<4,>=2.5 in c:\\users\\admin\\anaconda3\\lib\\site-packages (from requests->transformers) (2.10)\n",
      "Requirement already satisfied: urllib3<3,>=1.21.1 in c:\\users\\admin\\anaconda3\\lib\\site-packages (from requests->transformers) (2.2.3)\n",
      "Requirement already satisfied: certifi>=2017.4.17 in c:\\users\\admin\\anaconda3\\lib\\site-packages (from requests->transformers) (2024.12.14)\n",
      "Collecting sentencepiece\n",
      "  Downloading sentencepiece-0.2.0-cp312-cp312-win_amd64.whl.metadata (8.3 kB)\n",
      "Downloading sentencepiece-0.2.0-cp312-cp312-win_amd64.whl (991 kB)\n",
      "   ---------------------------------------- 0.0/992.0 kB ? eta -:--:--\n",
      "   --------------------------------------- 992.0/992.0 kB 15.9 MB/s eta 0:00:00\n",
      "Installing collected packages: sentencepiece\n",
      "Successfully installed sentencepiece-0.2.0\n",
      "Requirement already satisfied: torch in c:\\users\\admin\\anaconda3\\lib\\site-packages (2.7.0)\n",
      "Requirement already satisfied: filelock in c:\\users\\admin\\anaconda3\\lib\\site-packages (from torch) (3.13.1)\n",
      "Requirement already satisfied: typing-extensions>=4.10.0 in c:\\users\\admin\\anaconda3\\lib\\site-packages (from torch) (4.11.0)\n",
      "Requirement already satisfied: sympy>=1.13.3 in c:\\users\\admin\\anaconda3\\lib\\site-packages (from torch) (1.14.0)\n",
      "Requirement already satisfied: networkx in c:\\users\\admin\\anaconda3\\lib\\site-packages (from torch) (3.3)\n",
      "Requirement already satisfied: jinja2 in c:\\users\\admin\\anaconda3\\lib\\site-packages (from torch) (3.1.4)\n",
      "Requirement already satisfied: fsspec in c:\\users\\admin\\anaconda3\\lib\\site-packages (from torch) (2024.6.1)\n",
      "Requirement already satisfied: setuptools in c:\\users\\admin\\anaconda3\\lib\\site-packages (from torch) (75.1.0)\n",
      "Requirement already satisfied: mpmath<1.4,>=1.1.0 in c:\\users\\admin\\anaconda3\\lib\\site-packages (from sympy>=1.13.3->torch) (1.3.0)\n",
      "Requirement already satisfied: MarkupSafe>=2.0 in c:\\users\\admin\\anaconda3\\lib\\site-packages (from jinja2->torch) (2.1.3)\n"
     ]
    }
   ],
   "source": [
    "!pip install transformers\n",
    "!pip install sentencepiece\n",
    "!pip install torch\n"
   ]
  },
  {
   "cell_type": "code",
   "execution_count": 3,
   "id": "bd411229",
   "metadata": {},
   "outputs": [],
   "source": [
    "from transformers import pipeline\n",
    "from IPython.display import display\n",
    "import ipywidgets as widgets\n"
   ]
  },
  {
   "cell_type": "code",
   "execution_count": 6,
   "id": "19a493f1",
   "metadata": {},
   "outputs": [
    {
     "name": "stdout",
     "output_type": "stream",
     "text": [
      "Requirement already satisfied: torch in c:\\users\\admin\\anaconda3\\lib\\site-packages (2.7.0)\n",
      "Collecting torch\n",
      "  Downloading torch-2.7.1-cp312-cp312-win_amd64.whl.metadata (28 kB)\n",
      "Requirement already satisfied: filelock in c:\\users\\admin\\anaconda3\\lib\\site-packages (from torch) (3.13.1)\n",
      "Requirement already satisfied: typing-extensions>=4.10.0 in c:\\users\\admin\\anaconda3\\lib\\site-packages (from torch) (4.11.0)\n",
      "Requirement already satisfied: sympy>=1.13.3 in c:\\users\\admin\\anaconda3\\lib\\site-packages (from torch) (1.14.0)\n",
      "Requirement already satisfied: networkx in c:\\users\\admin\\anaconda3\\lib\\site-packages (from torch) (3.3)\n",
      "Requirement already satisfied: jinja2 in c:\\users\\admin\\anaconda3\\lib\\site-packages (from torch) (3.1.4)\n",
      "Requirement already satisfied: fsspec in c:\\users\\admin\\anaconda3\\lib\\site-packages (from torch) (2024.6.1)\n",
      "Requirement already satisfied: setuptools in c:\\users\\admin\\anaconda3\\lib\\site-packages (from torch) (75.1.0)\n",
      "Requirement already satisfied: mpmath<1.4,>=1.1.0 in c:\\users\\admin\\anaconda3\\lib\\site-packages (from sympy>=1.13.3->torch) (1.3.0)\n",
      "Requirement already satisfied: MarkupSafe>=2.0 in c:\\users\\admin\\anaconda3\\lib\\site-packages (from jinja2->torch) (2.1.3)\n",
      "Downloading torch-2.7.1-cp312-cp312-win_amd64.whl (216.1 MB)\n",
      "   ---------------------------------------- 0.0/216.1 MB ? eta -:--:--\n",
      "    --------------------------------------- 3.1/216.1 MB 20.6 MB/s eta 0:00:11\n",
      "    --------------------------------------- 4.7/216.1 MB 13.6 MB/s eta 0:00:16\n",
      "   - -------------------------------------- 5.8/216.1 MB 10.1 MB/s eta 0:00:21\n",
      "   - -------------------------------------- 6.3/216.1 MB 8.8 MB/s eta 0:00:24\n",
      "   - -------------------------------------- 6.8/216.1 MB 7.6 MB/s eta 0:00:28\n",
      "   - -------------------------------------- 7.6/216.1 MB 6.3 MB/s eta 0:00:33\n",
      "   - -------------------------------------- 8.7/216.1 MB 6.2 MB/s eta 0:00:34\n",
      "   - -------------------------------------- 9.7/216.1 MB 6.0 MB/s eta 0:00:35\n",
      "   -- ------------------------------------- 11.0/216.1 MB 6.0 MB/s eta 0:00:35\n",
      "   -- ------------------------------------- 11.8/216.1 MB 5.8 MB/s eta 0:00:36\n",
      "   -- ------------------------------------- 12.8/216.1 MB 5.6 MB/s eta 0:00:37\n",
      "   -- ------------------------------------- 13.9/216.1 MB 5.6 MB/s eta 0:00:37\n",
      "   -- ------------------------------------- 14.9/216.1 MB 5.6 MB/s eta 0:00:36\n",
      "   -- ------------------------------------- 16.0/216.1 MB 5.5 MB/s eta 0:00:37\n",
      "   --- ------------------------------------ 17.3/216.1 MB 5.6 MB/s eta 0:00:36\n",
      "   --- ------------------------------------ 18.4/216.1 MB 5.6 MB/s eta 0:00:36\n",
      "   --- ------------------------------------ 19.1/216.1 MB 5.5 MB/s eta 0:00:37\n",
      "   --- ------------------------------------ 19.9/216.1 MB 5.4 MB/s eta 0:00:37\n",
      "   --- ------------------------------------ 21.0/216.1 MB 5.3 MB/s eta 0:00:37\n",
      "   ---- ----------------------------------- 22.0/216.1 MB 5.4 MB/s eta 0:00:37\n",
      "   ---- ----------------------------------- 23.1/216.1 MB 5.3 MB/s eta 0:00:37\n",
      "   ---- ----------------------------------- 24.1/216.1 MB 5.3 MB/s eta 0:00:37\n",
      "   ---- ----------------------------------- 25.7/216.1 MB 5.4 MB/s eta 0:00:36\n",
      "   ---- ----------------------------------- 26.5/216.1 MB 5.3 MB/s eta 0:00:36\n",
      "   ----- ---------------------------------- 27.3/216.1 MB 5.3 MB/s eta 0:00:36\n",
      "   ----- ---------------------------------- 28.8/216.1 MB 5.3 MB/s eta 0:00:36\n",
      "   ----- ---------------------------------- 29.9/216.1 MB 5.4 MB/s eta 0:00:35\n",
      "   ----- ---------------------------------- 30.7/216.1 MB 5.3 MB/s eta 0:00:36\n",
      "   ----- ---------------------------------- 31.5/216.1 MB 5.2 MB/s eta 0:00:36\n",
      "   ------ --------------------------------- 32.8/216.1 MB 5.3 MB/s eta 0:00:35\n",
      "   ------ --------------------------------- 33.6/216.1 MB 5.2 MB/s eta 0:00:36\n",
      "   ------ --------------------------------- 34.6/216.1 MB 5.2 MB/s eta 0:00:35\n",
      "   ------ --------------------------------- 35.9/216.1 MB 5.2 MB/s eta 0:00:35\n",
      "   ------ --------------------------------- 36.7/216.1 MB 5.2 MB/s eta 0:00:35\n",
      "   ------ --------------------------------- 37.7/216.1 MB 5.2 MB/s eta 0:00:35\n",
      "   ------- -------------------------------- 38.8/216.1 MB 5.2 MB/s eta 0:00:35\n",
      "   ------- -------------------------------- 40.1/216.1 MB 5.2 MB/s eta 0:00:34\n",
      "   ------- -------------------------------- 41.2/216.1 MB 5.2 MB/s eta 0:00:34\n",
      "   ------- -------------------------------- 42.2/216.1 MB 5.2 MB/s eta 0:00:34\n",
      "   -------- ------------------------------- 43.3/216.1 MB 5.2 MB/s eta 0:00:34\n",
      "   -------- ------------------------------- 44.0/216.1 MB 5.2 MB/s eta 0:00:34\n",
      "   -------- ------------------------------- 44.8/216.1 MB 5.1 MB/s eta 0:00:34\n",
      "   -------- ------------------------------- 45.4/216.1 MB 5.1 MB/s eta 0:00:34\n",
      "   -------- ------------------------------- 46.4/216.1 MB 5.1 MB/s eta 0:00:34\n",
      "   -------- ------------------------------- 47.7/216.1 MB 5.1 MB/s eta 0:00:34\n",
      "   --------- ------------------------------ 49.0/216.1 MB 5.1 MB/s eta 0:00:33\n",
      "   --------- ------------------------------ 50.6/216.1 MB 5.2 MB/s eta 0:00:32\n",
      "   --------- ------------------------------ 51.4/216.1 MB 5.1 MB/s eta 0:00:33\n",
      "   --------- ------------------------------ 52.2/216.1 MB 5.1 MB/s eta 0:00:32\n",
      "   --------- ------------------------------ 53.2/216.1 MB 5.1 MB/s eta 0:00:32\n",
      "   ---------- ----------------------------- 54.3/216.1 MB 5.1 MB/s eta 0:00:32\n",
      "   ---------- ----------------------------- 55.6/216.1 MB 5.1 MB/s eta 0:00:32\n",
      "   ---------- ----------------------------- 56.9/216.1 MB 5.2 MB/s eta 0:00:31\n",
      "   ---------- ----------------------------- 57.9/216.1 MB 5.2 MB/s eta 0:00:31\n",
      "   ---------- ----------------------------- 58.7/216.1 MB 5.1 MB/s eta 0:00:31\n",
      "   ---------- ----------------------------- 59.2/216.1 MB 5.1 MB/s eta 0:00:31\n",
      "   ----------- ---------------------------- 60.3/216.1 MB 5.1 MB/s eta 0:00:31\n",
      "   ----------- ---------------------------- 61.6/216.1 MB 5.1 MB/s eta 0:00:31\n",
      "   ----------- ---------------------------- 62.7/216.1 MB 5.1 MB/s eta 0:00:31\n",
      "   ----------- ---------------------------- 63.7/216.1 MB 5.1 MB/s eta 0:00:30\n",
      "   ------------ --------------------------- 65.0/216.1 MB 5.1 MB/s eta 0:00:30\n",
      "   ------------ --------------------------- 65.5/216.1 MB 5.1 MB/s eta 0:00:30\n",
      "   ------------ --------------------------- 66.8/216.1 MB 5.1 MB/s eta 0:00:30\n",
      "   ------------ --------------------------- 68.4/216.1 MB 5.1 MB/s eta 0:00:29\n",
      "   ------------ --------------------------- 68.9/216.1 MB 5.1 MB/s eta 0:00:29\n",
      "   ------------ --------------------------- 68.9/216.1 MB 5.1 MB/s eta 0:00:29\n",
      "   ------------ --------------------------- 68.9/216.1 MB 5.1 MB/s eta 0:00:29\n",
      "   ------------ --------------------------- 68.9/216.1 MB 5.1 MB/s eta 0:00:29\n",
      "   ------------ --------------------------- 69.2/216.1 MB 4.8 MB/s eta 0:00:31\n",
      "   ------------- -------------------------- 70.5/216.1 MB 4.8 MB/s eta 0:00:31\n",
      "   ------------- -------------------------- 73.9/216.1 MB 5.0 MB/s eta 0:00:29\n",
      "   ------------- -------------------------- 74.7/216.1 MB 5.0 MB/s eta 0:00:29\n",
      "   ------------- -------------------------- 75.2/216.1 MB 4.9 MB/s eta 0:00:29\n",
      "   -------------- ------------------------- 76.0/216.1 MB 4.9 MB/s eta 0:00:29\n",
      "   -------------- ------------------------- 77.1/216.1 MB 4.9 MB/s eta 0:00:29\n",
      "   -------------- ------------------------- 78.4/216.1 MB 4.9 MB/s eta 0:00:28\n",
      "   -------------- ------------------------- 79.4/216.1 MB 4.9 MB/s eta 0:00:28\n",
      "   -------------- ------------------------- 80.5/216.1 MB 4.9 MB/s eta 0:00:28\n",
      "   --------------- ------------------------ 81.3/216.1 MB 4.9 MB/s eta 0:00:28\n",
      "   --------------- ------------------------ 82.3/216.1 MB 4.9 MB/s eta 0:00:28\n",
      "   --------------- ------------------------ 83.4/216.1 MB 4.9 MB/s eta 0:00:27\n",
      "   --------------- ------------------------ 84.1/216.1 MB 4.9 MB/s eta 0:00:27\n",
      "   --------------- ------------------------ 85.5/216.1 MB 4.9 MB/s eta 0:00:27\n",
      "   ---------------- ----------------------- 86.5/216.1 MB 4.9 MB/s eta 0:00:27\n",
      "   ---------------- ----------------------- 87.6/216.1 MB 4.9 MB/s eta 0:00:26\n",
      "   ---------------- ----------------------- 88.1/216.1 MB 4.9 MB/s eta 0:00:27\n",
      "   ---------------- ----------------------- 88.9/216.1 MB 4.9 MB/s eta 0:00:26\n",
      "   ---------------- ----------------------- 90.4/216.1 MB 4.9 MB/s eta 0:00:26\n",
      "   ---------------- ----------------------- 91.8/216.1 MB 4.9 MB/s eta 0:00:26\n",
      "   ----------------- ---------------------- 93.1/216.1 MB 4.9 MB/s eta 0:00:25\n",
      "   ----------------- ---------------------- 93.8/216.1 MB 5.0 MB/s eta 0:00:25\n",
      "   ----------------- ---------------------- 94.6/216.1 MB 4.9 MB/s eta 0:00:25\n",
      "   ----------------- ---------------------- 95.4/216.1 MB 4.9 MB/s eta 0:00:25\n",
      "   ----------------- ---------------------- 96.5/216.1 MB 4.9 MB/s eta 0:00:25\n",
      "   ------------------ --------------------- 98.0/216.1 MB 4.9 MB/s eta 0:00:24\n",
      "   ------------------ --------------------- 99.4/216.1 MB 5.0 MB/s eta 0:00:24\n",
      "   ------------------ --------------------- 100.1/216.1 MB 5.0 MB/s eta 0:00:24\n",
      "   ------------------ --------------------- 101.2/216.1 MB 4.9 MB/s eta 0:00:24\n",
      "   ------------------ --------------------- 102.2/216.1 MB 4.9 MB/s eta 0:00:24\n",
      "   ------------------- -------------------- 103.3/216.1 MB 5.0 MB/s eta 0:00:23\n",
      "   ------------------- -------------------- 104.1/216.1 MB 4.9 MB/s eta 0:00:23\n",
      "   ------------------- -------------------- 105.1/216.1 MB 4.9 MB/s eta 0:00:23\n",
      "   ------------------- -------------------- 106.2/216.1 MB 4.9 MB/s eta 0:00:23\n",
      "   ------------------- -------------------- 107.2/216.1 MB 4.9 MB/s eta 0:00:23\n",
      "   -------------------- ------------------- 108.3/216.1 MB 4.9 MB/s eta 0:00:22\n",
      "   -------------------- ------------------- 109.3/216.1 MB 4.9 MB/s eta 0:00:22\n",
      "   -------------------- ------------------- 110.1/216.1 MB 4.9 MB/s eta 0:00:22\n",
      "   -------------------- ------------------- 111.1/216.1 MB 4.9 MB/s eta 0:00:22\n",
      "   -------------------- ------------------- 113.0/216.1 MB 5.0 MB/s eta 0:00:21\n",
      "   --------------------- ------------------ 114.0/216.1 MB 5.0 MB/s eta 0:00:21\n",
      "   --------------------- ------------------ 114.8/216.1 MB 5.0 MB/s eta 0:00:21\n",
      "   --------------------- ------------------ 115.9/216.1 MB 5.0 MB/s eta 0:00:21\n",
      "   --------------------- ------------------ 116.4/216.1 MB 4.9 MB/s eta 0:00:21\n",
      "   --------------------- ------------------ 117.4/216.1 MB 4.9 MB/s eta 0:00:20\n",
      "   --------------------- ------------------ 118.8/216.1 MB 4.9 MB/s eta 0:00:20\n",
      "   ---------------------- ----------------- 119.8/216.1 MB 4.9 MB/s eta 0:00:20\n",
      "   ---------------------- ----------------- 120.8/216.1 MB 5.0 MB/s eta 0:00:20\n",
      "   ---------------------- ----------------- 122.2/216.1 MB 5.0 MB/s eta 0:00:19\n",
      "   ---------------------- ----------------- 122.9/216.1 MB 4.9 MB/s eta 0:00:19\n",
      "   ----------------------- ---------------- 124.3/216.1 MB 5.0 MB/s eta 0:00:19\n",
      "   ----------------------- ---------------- 125.3/216.1 MB 5.0 MB/s eta 0:00:19\n",
      "   ----------------------- ---------------- 126.4/216.1 MB 5.0 MB/s eta 0:00:19\n",
      "   ----------------------- ---------------- 127.4/216.1 MB 5.0 MB/s eta 0:00:18\n",
      "   ----------------------- ---------------- 127.7/216.1 MB 4.9 MB/s eta 0:00:18\n",
      "   ----------------------- ---------------- 128.7/216.1 MB 4.9 MB/s eta 0:00:18\n",
      "   ------------------------ --------------- 130.0/216.1 MB 4.9 MB/s eta 0:00:18\n",
      "   ------------------------ --------------- 131.9/216.1 MB 5.0 MB/s eta 0:00:17\n",
      "   ------------------------ --------------- 132.9/216.1 MB 5.0 MB/s eta 0:00:17\n",
      "   ------------------------ --------------- 133.7/216.1 MB 5.0 MB/s eta 0:00:17\n",
      "   ------------------------ --------------- 134.7/216.1 MB 5.0 MB/s eta 0:00:17\n",
      "   ------------------------- -------------- 135.8/216.1 MB 5.0 MB/s eta 0:00:17\n",
      "   ------------------------- -------------- 136.6/216.1 MB 5.0 MB/s eta 0:00:17\n",
      "   ------------------------- -------------- 137.9/216.1 MB 5.0 MB/s eta 0:00:16\n",
      "   ------------------------- -------------- 138.9/216.1 MB 5.0 MB/s eta 0:00:16\n",
      "   ------------------------- -------------- 139.7/216.1 MB 5.0 MB/s eta 0:00:16\n",
      "   -------------------------- ------------- 140.5/216.1 MB 4.9 MB/s eta 0:00:16\n",
      "   -------------------------- ------------- 141.6/216.1 MB 4.9 MB/s eta 0:00:16\n",
      "   -------------------------- ------------- 142.3/216.1 MB 4.9 MB/s eta 0:00:15\n",
      "   -------------------------- ------------- 143.4/216.1 MB 4.9 MB/s eta 0:00:15\n",
      "   -------------------------- ------------- 144.7/216.1 MB 4.9 MB/s eta 0:00:15\n",
      "   --------------------------- ------------ 146.3/216.1 MB 5.0 MB/s eta 0:00:15\n",
      "   --------------------------- ------------ 147.3/216.1 MB 5.0 MB/s eta 0:00:14\n",
      "   --------------------------- ------------ 148.4/216.1 MB 5.0 MB/s eta 0:00:14\n",
      "   --------------------------- ------------ 149.4/216.1 MB 4.9 MB/s eta 0:00:14\n",
      "   --------------------------- ------------ 149.9/216.1 MB 4.9 MB/s eta 0:00:14\n",
      "   --------------------------- ------------ 151.0/216.1 MB 4.8 MB/s eta 0:00:14\n",
      "   ---------------------------- ----------- 152.3/216.1 MB 4.9 MB/s eta 0:00:14\n",
      "   ---------------------------- ----------- 153.1/216.1 MB 4.9 MB/s eta 0:00:13\n",
      "   ---------------------------- ----------- 153.9/216.1 MB 4.9 MB/s eta 0:00:13\n",
      "   ---------------------------- ----------- 155.2/216.1 MB 4.9 MB/s eta 0:00:13\n",
      "   ----------------------------- ---------- 156.8/216.1 MB 4.9 MB/s eta 0:00:13\n",
      "   ----------------------------- ---------- 157.5/216.1 MB 4.9 MB/s eta 0:00:12\n",
      "   ----------------------------- ---------- 158.3/216.1 MB 4.9 MB/s eta 0:00:12\n",
      "   ----------------------------- ---------- 159.6/216.1 MB 4.9 MB/s eta 0:00:12\n",
      "   ----------------------------- ---------- 160.7/216.1 MB 4.9 MB/s eta 0:00:12\n",
      "   ----------------------------- ---------- 162.0/216.1 MB 4.9 MB/s eta 0:00:11\n",
      "   ------------------------------ --------- 163.1/216.1 MB 4.9 MB/s eta 0:00:11\n",
      "   ------------------------------ --------- 163.8/216.1 MB 4.9 MB/s eta 0:00:11\n",
      "   ------------------------------ --------- 164.6/216.1 MB 4.9 MB/s eta 0:00:11\n",
      "   ------------------------------ --------- 165.7/216.1 MB 4.9 MB/s eta 0:00:11\n",
      "   ------------------------------ --------- 166.5/216.1 MB 4.9 MB/s eta 0:00:11\n",
      "   ------------------------------ --------- 167.2/216.1 MB 4.9 MB/s eta 0:00:10\n",
      "   ------------------------------- -------- 168.6/216.1 MB 4.9 MB/s eta 0:00:10\n",
      "   ------------------------------- -------- 169.6/216.1 MB 4.9 MB/s eta 0:00:10\n",
      "   ------------------------------- -------- 170.9/216.1 MB 4.9 MB/s eta 0:00:10\n",
      "   ------------------------------- -------- 172.0/216.1 MB 4.9 MB/s eta 0:00:09\n",
      "   -------------------------------- ------- 173.0/216.1 MB 4.9 MB/s eta 0:00:09\n",
      "   -------------------------------- ------- 173.8/216.1 MB 4.9 MB/s eta 0:00:09\n",
      "   -------------------------------- ------- 175.1/216.1 MB 4.9 MB/s eta 0:00:09\n",
      "   -------------------------------- ------- 176.2/216.1 MB 4.9 MB/s eta 0:00:09\n",
      "   -------------------------------- ------- 177.5/216.1 MB 4.9 MB/s eta 0:00:08\n",
      "   --------------------------------- ------ 178.5/216.1 MB 4.9 MB/s eta 0:00:08\n",
      "   --------------------------------- ------ 179.6/216.1 MB 4.9 MB/s eta 0:00:08\n",
      "   --------------------------------- ------ 180.1/216.1 MB 4.9 MB/s eta 0:00:08\n",
      "   --------------------------------- ------ 180.9/216.1 MB 4.9 MB/s eta 0:00:08\n",
      "   --------------------------------- ------ 182.2/216.1 MB 4.9 MB/s eta 0:00:07\n",
      "   --------------------------------- ------ 183.5/216.1 MB 4.9 MB/s eta 0:00:07\n",
      "   ---------------------------------- ----- 184.5/216.1 MB 4.9 MB/s eta 0:00:07\n",
      "   ---------------------------------- ----- 185.9/216.1 MB 4.9 MB/s eta 0:00:07\n",
      "   ---------------------------------- ----- 186.4/216.1 MB 4.9 MB/s eta 0:00:07\n",
      "   ---------------------------------- ----- 187.2/216.1 MB 4.9 MB/s eta 0:00:06\n",
      "   ---------------------------------- ----- 188.5/216.1 MB 4.9 MB/s eta 0:00:06\n",
      "   ----------------------------------- ---- 190.1/216.1 MB 4.9 MB/s eta 0:00:06\n",
      "   ----------------------------------- ---- 190.8/216.1 MB 4.9 MB/s eta 0:00:06\n",
      "   ----------------------------------- ---- 191.6/216.1 MB 4.9 MB/s eta 0:00:05\n",
      "   ----------------------------------- ---- 192.4/216.1 MB 4.9 MB/s eta 0:00:05\n",
      "   ----------------------------------- ---- 193.7/216.1 MB 4.9 MB/s eta 0:00:05\n",
      "   ------------------------------------ --- 195.0/216.1 MB 4.9 MB/s eta 0:00:05\n",
      "   ------------------------------------ --- 196.1/216.1 MB 4.9 MB/s eta 0:00:05\n",
      "   ------------------------------------ --- 197.1/216.1 MB 4.9 MB/s eta 0:00:04\n",
      "   ------------------------------------ --- 197.9/216.1 MB 4.9 MB/s eta 0:00:04\n",
      "   ------------------------------------ --- 199.2/216.1 MB 4.9 MB/s eta 0:00:04\n",
      "   ------------------------------------- -- 200.0/216.1 MB 4.9 MB/s eta 0:00:04\n",
      "   ------------------------------------- -- 201.1/216.1 MB 4.9 MB/s eta 0:00:04\n",
      "   ------------------------------------- -- 201.9/216.1 MB 4.9 MB/s eta 0:00:03\n",
      "   ------------------------------------- -- 203.2/216.1 MB 4.9 MB/s eta 0:00:03\n",
      "   ------------------------------------- -- 204.5/216.1 MB 4.9 MB/s eta 0:00:03\n",
      "   -------------------------------------- - 205.8/216.1 MB 4.9 MB/s eta 0:00:03\n",
      "   -------------------------------------- - 206.6/216.1 MB 4.9 MB/s eta 0:00:02\n",
      "   -------------------------------------- - 207.4/216.1 MB 4.9 MB/s eta 0:00:02\n",
      "   -------------------------------------- - 208.1/216.1 MB 4.9 MB/s eta 0:00:02\n",
      "   -------------------------------------- - 209.5/216.1 MB 4.9 MB/s eta 0:00:02\n",
      "   -------------------------------------- - 210.2/216.1 MB 4.9 MB/s eta 0:00:02\n",
      "   ---------------------------------------  211.3/216.1 MB 4.9 MB/s eta 0:00:01\n",
      "   ---------------------------------------  212.6/216.1 MB 4.9 MB/s eta 0:00:01\n",
      "   ---------------------------------------  213.4/216.1 MB 4.9 MB/s eta 0:00:01\n",
      "   ---------------------------------------  214.4/216.1 MB 4.9 MB/s eta 0:00:01\n",
      "   ---------------------------------------  215.7/216.1 MB 5.0 MB/s eta 0:00:01\n",
      "   ---------------------------------------  216.0/216.1 MB 5.0 MB/s eta 0:00:01\n",
      "   ---------------------------------------  216.0/216.1 MB 5.0 MB/s eta 0:00:01\n",
      "   ---------------------------------------- 216.1/216.1 MB 4.9 MB/s eta 0:00:00\n",
      "Installing collected packages: torch\n",
      "  Attempting uninstall: torch\n",
      "    Found existing installation: torch 2.7.0\n",
      "    Uninstalling torch-2.7.0:\n",
      "      Successfully uninstalled torch-2.7.0\n",
      "Successfully installed torch-2.7.1\n"
     ]
    },
    {
     "name": "stderr",
     "output_type": "stream",
     "text": [
      "  WARNING: Failed to remove contents in a temporary directory 'C:\\Users\\admin\\anaconda3\\Lib\\site-packages\\~orch'.\n",
      "  You can safely remove it manually.\n",
      "ERROR: pip's dependency resolver does not currently take into account all the packages that are installed. This behaviour is the source of the following dependency conflicts.\n",
      "torchvision 0.22.0 requires torch==2.7.0, but you have torch 2.7.1 which is incompatible.\n"
     ]
    },
    {
     "name": "stdout",
     "output_type": "stream",
     "text": [
      "Requirement already satisfied: transformers in c:\\users\\admin\\anaconda3\\lib\\site-packages (4.48.3)\n",
      "Collecting transformers\n",
      "  Downloading transformers-4.52.4-py3-none-any.whl.metadata (38 kB)\n",
      "Requirement already satisfied: filelock in c:\\users\\admin\\anaconda3\\lib\\site-packages (from transformers) (3.13.1)\n",
      "Collecting huggingface-hub<1.0,>=0.30.0 (from transformers)\n",
      "  Downloading huggingface_hub-0.33.0-py3-none-any.whl.metadata (14 kB)\n",
      "Requirement already satisfied: numpy>=1.17 in c:\\users\\admin\\anaconda3\\lib\\site-packages (from transformers) (1.26.4)\n",
      "Requirement already satisfied: packaging>=20.0 in c:\\users\\admin\\anaconda3\\lib\\site-packages (from transformers) (24.1)\n",
      "Requirement already satisfied: pyyaml>=5.1 in c:\\users\\admin\\anaconda3\\lib\\site-packages (from transformers) (6.0.1)\n",
      "Requirement already satisfied: regex!=2019.12.17 in c:\\users\\admin\\anaconda3\\lib\\site-packages (from transformers) (2024.9.11)\n",
      "Requirement already satisfied: requests in c:\\users\\admin\\anaconda3\\lib\\site-packages (from transformers) (2.32.3)\n",
      "Requirement already satisfied: tokenizers<0.22,>=0.21 in c:\\users\\admin\\anaconda3\\lib\\site-packages (from transformers) (0.21.0)\n",
      "Requirement already satisfied: safetensors>=0.4.3 in c:\\users\\admin\\anaconda3\\lib\\site-packages (from transformers) (0.5.2)\n",
      "Requirement already satisfied: tqdm>=4.27 in c:\\users\\admin\\anaconda3\\lib\\site-packages (from transformers) (4.66.5)\n",
      "Requirement already satisfied: fsspec>=2023.5.0 in c:\\users\\admin\\anaconda3\\lib\\site-packages (from huggingface-hub<1.0,>=0.30.0->transformers) (2024.6.1)\n",
      "Requirement already satisfied: typing-extensions>=3.7.4.3 in c:\\users\\admin\\anaconda3\\lib\\site-packages (from huggingface-hub<1.0,>=0.30.0->transformers) (4.11.0)\n",
      "Requirement already satisfied: colorama in c:\\users\\admin\\anaconda3\\lib\\site-packages (from tqdm>=4.27->transformers) (0.4.6)\n",
      "Requirement already satisfied: charset-normalizer<4,>=2 in c:\\users\\admin\\anaconda3\\lib\\site-packages (from requests->transformers) (3.3.2)\n",
      "Requirement already satisfied: idna<4,>=2.5 in c:\\users\\admin\\anaconda3\\lib\\site-packages (from requests->transformers) (2.10)\n",
      "Requirement already satisfied: urllib3<3,>=1.21.1 in c:\\users\\admin\\anaconda3\\lib\\site-packages (from requests->transformers) (2.2.3)\n",
      "Requirement already satisfied: certifi>=2017.4.17 in c:\\users\\admin\\anaconda3\\lib\\site-packages (from requests->transformers) (2024.12.14)\n",
      "Downloading transformers-4.52.4-py3-none-any.whl (10.5 MB)\n",
      "   ---------------------------------------- 0.0/10.5 MB ? eta -:--:--\n",
      "   -------------- ------------------------- 3.7/10.5 MB 19.8 MB/s eta 0:00:01\n",
      "   -------------- ------------------------- 3.7/10.5 MB 19.8 MB/s eta 0:00:01\n",
      "   -------------- ------------------------- 3.7/10.5 MB 19.8 MB/s eta 0:00:01\n",
      "   -------------- ------------------------- 3.7/10.5 MB 19.8 MB/s eta 0:00:01\n",
      "   -------------- ------------------------- 3.7/10.5 MB 19.8 MB/s eta 0:00:01\n",
      "   --------------------- ------------------ 5.5/10.5 MB 4.2 MB/s eta 0:00:02\n",
      "   ------------------------- -------------- 6.6/10.5 MB 5.0 MB/s eta 0:00:01\n",
      "   ------------------------- -------------- 6.6/10.5 MB 5.0 MB/s eta 0:00:01\n",
      "   ------------------------- -------------- 6.6/10.5 MB 5.0 MB/s eta 0:00:01\n",
      "   ------------------------- -------------- 6.6/10.5 MB 5.0 MB/s eta 0:00:01\n",
      "   ------------------------------ --------- 7.9/10.5 MB 3.3 MB/s eta 0:00:01\n",
      "   ---------------------------------------- 10.5/10.5 MB 4.3 MB/s eta 0:00:00\n",
      "Downloading huggingface_hub-0.33.0-py3-none-any.whl (514 kB)\n",
      "Installing collected packages: huggingface-hub, transformers\n",
      "  Attempting uninstall: huggingface-hub\n",
      "    Found existing installation: huggingface-hub 0.28.1\n",
      "    Uninstalling huggingface-hub-0.28.1:\n",
      "      Successfully uninstalled huggingface-hub-0.28.1\n",
      "  Attempting uninstall: transformers\n",
      "    Found existing installation: transformers 4.48.3\n",
      "    Uninstalling transformers-4.48.3:\n",
      "      Successfully uninstalled transformers-4.48.3\n",
      "Successfully installed huggingface-hub-0.33.0 transformers-4.52.4\n"
     ]
    }
   ],
   "source": [
    "!pip install torch --upgrade\n",
    "!pip install transformers --upgrade\n"
   ]
  },
  {
   "cell_type": "code",
   "execution_count": 7,
   "id": "8e9ec04d",
   "metadata": {},
   "outputs": [
    {
     "data": {
      "application/vnd.jupyter.widget-view+json": {
       "model_id": "bff689dd9b964ac8acef71114550f70a",
       "version_major": 2,
       "version_minor": 0
      },
      "text/plain": [
       "model.safetensors:   0%|          | 0.00/1.63G [00:00<?, ?B/s]"
      ]
     },
     "metadata": {},
     "output_type": "display_data"
    },
    {
     "data": {
      "application/vnd.jupyter.widget-view+json": {
       "model_id": "a19ad4df298a492392f64eeb559aeabd",
       "version_major": 2,
       "version_minor": 0
      },
      "text/plain": [
       "model.safetensors:  57%|#####6    | 923M/1.63G [00:00<?, ?B/s]"
      ]
     },
     "metadata": {},
     "output_type": "display_data"
    },
    {
     "data": {
      "application/vnd.jupyter.widget-view+json": {
       "model_id": "9a8f3342650540fe90816916c0f9ee10",
       "version_major": 2,
       "version_minor": 0
      },
      "text/plain": [
       "generation_config.json:   0%|          | 0.00/363 [00:00<?, ?B/s]"
      ]
     },
     "metadata": {},
     "output_type": "display_data"
    },
    {
     "data": {
      "application/vnd.jupyter.widget-view+json": {
       "model_id": "f46fe13f57b444bb9ff6d8d037dd3b6d",
       "version_major": 2,
       "version_minor": 0
      },
      "text/plain": [
       "vocab.json:   0%|          | 0.00/899k [00:00<?, ?B/s]"
      ]
     },
     "metadata": {},
     "output_type": "display_data"
    },
    {
     "data": {
      "application/vnd.jupyter.widget-view+json": {
       "model_id": "4aa4361ec0244540b46c307e2ecbb7db",
       "version_major": 2,
       "version_minor": 0
      },
      "text/plain": [
       "merges.txt:   0%|          | 0.00/456k [00:00<?, ?B/s]"
      ]
     },
     "metadata": {},
     "output_type": "display_data"
    },
    {
     "data": {
      "application/vnd.jupyter.widget-view+json": {
       "model_id": "f0f44958c39849bf9a4ac74b84acb5e4",
       "version_major": 2,
       "version_minor": 0
      },
      "text/plain": [
       "tokenizer.json:   0%|          | 0.00/1.36M [00:00<?, ?B/s]"
      ]
     },
     "metadata": {},
     "output_type": "display_data"
    },
    {
     "name": "stderr",
     "output_type": "stream",
     "text": [
      "Device set to use cpu\n"
     ]
    }
   ],
   "source": [
    "from transformers import pipeline\n",
    "\n",
    "# Force PyTorch usage by framework='pt'\n",
    "summarizer = pipeline(\"summarization\", model=\"facebook/bart-large-cnn\", framework=\"pt\")\n"
   ]
  },
  {
   "cell_type": "code",
   "execution_count": 8,
   "id": "7d470d26",
   "metadata": {},
   "outputs": [],
   "source": [
    "# Input box for long text\n",
    "input_box = widgets.Textarea(\n",
    "    value='Paste your long paragraph here...',\n",
    "    placeholder='Enter text here...',\n",
    "    description='Text:',\n",
    "    layout=widgets.Layout(width='100%', height='200px')\n",
    ")\n",
    "\n",
    "# Output box for summary\n",
    "output_box = widgets.Textarea(\n",
    "    value='',\n",
    "    description='Summary:',\n",
    "    layout=widgets.Layout(width='100%', height='150px')\n",
    ")\n",
    "\n",
    "# Button to trigger summarization\n",
    "button = widgets.Button(description=\"Summarize\")\n"
   ]
  },
  {
   "cell_type": "code",
   "execution_count": 9,
   "id": "1683fd3b",
   "metadata": {},
   "outputs": [],
   "source": [
    "def summarize_text(b):\n",
    "    input_text = input_box.value\n",
    "    if len(input_text.strip()) == 0:\n",
    "        output_box.value = \"Please enter some text.\"\n",
    "        return\n",
    "    summary = summarizer(input_text, max_length=130, min_length=30, do_sample=False)[0]['summary_text']\n",
    "    output_box.value = summary\n",
    "\n",
    "button.on_click(summarize_text)\n"
   ]
  },
  {
   "cell_type": "code",
   "execution_count": 10,
   "id": "8a5d2916",
   "metadata": {},
   "outputs": [
    {
     "data": {
      "application/vnd.jupyter.widget-view+json": {
       "model_id": "5edb2479f10f42eebafd612e3c64f5f1",
       "version_major": 2,
       "version_minor": 0
      },
      "text/plain": [
       "Textarea(value='Paste your long paragraph here...', description='Text:', layout=Layout(height='200px', width='…"
      ]
     },
     "metadata": {},
     "output_type": "display_data"
    },
    {
     "data": {
      "application/vnd.jupyter.widget-view+json": {
       "model_id": "5c4c27c48b724bb3ab373bd460fd12b9",
       "version_major": 2,
       "version_minor": 0
      },
      "text/plain": [
       "Button(description='Summarize', style=ButtonStyle())"
      ]
     },
     "metadata": {},
     "output_type": "display_data"
    },
    {
     "data": {
      "application/vnd.jupyter.widget-view+json": {
       "model_id": "e29a0ad466a5443fa7e889ac3d6976ce",
       "version_major": 2,
       "version_minor": 0
      },
      "text/plain": [
       "Textarea(value='', description='Summary:', layout=Layout(height='150px', width='100%'))"
      ]
     },
     "metadata": {},
     "output_type": "display_data"
    }
   ],
   "source": [
    "display(input_box, button, output_box)\n"
   ]
  }
 ],
 "metadata": {
  "kernelspec": {
   "display_name": "base",
   "language": "python",
   "name": "python3"
  },
  "language_info": {
   "codemirror_mode": {
    "name": "ipython",
    "version": 3
   },
   "file_extension": ".py",
   "mimetype": "text/x-python",
   "name": "python",
   "nbconvert_exporter": "python",
   "pygments_lexer": "ipython3",
   "version": "3.12.7"
  }
 },
 "nbformat": 4,
 "nbformat_minor": 5
}
